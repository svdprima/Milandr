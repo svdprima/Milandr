{
 "cells": [
  {
   "cell_type": "code",
   "execution_count": 27,
   "metadata": {},
   "outputs": [
    {
     "name": "stdout",
     "output_type": "stream",
     "text": [
      "[ 0.  1.  2.  3.  4.  5.  6.  7.  8.  9. 10. 11. 12. 13. 14. 15. 16. 17.\n",
      " 18. 19. 20. 21. 22. 23. 24. 25. 26. 27. 28. 29. 30. 31. 32. 33. 34. 35.\n",
      " 36. 37. 38. 39. 40. 41. 42. 43. 44. 45. 46. 47. 48. 49. 50. 51. 52. 53.\n",
      " 54. 55. 56. 57. 58. 59. 60. 61. 62. 63. 64. 65. 66. 67. 68. 69. 70. 71.\n",
      " 72. 73. 74. 75. 76. 77. 78. 79. 80. 81. 82. 83. 84. 85. 86. 87. 88. 89.\n",
      " 90. 91. 92. 93. 94. 95. 96. 97. 98. 99.] [-0.27013799  1.20645677  1.78678693  3.18004539  3.85897097  4.56945028\n",
      "  6.21025367  6.73793951  8.59998783  9.42926884 10.33846704 11.42088539\n",
      " 11.93954694 13.33200812 14.00349831 15.95185778 15.56417447 17.23778616\n",
      " 18.11532083 18.28383447 19.92777094 20.64215661 22.09582766 23.40849231\n",
      " 23.79861074 24.83768489 26.03122113 27.33214604 27.93279738 29.06810672\n",
      " 30.1331188  30.52108909 31.73711211 32.89016517 33.82571748 34.98743956\n",
      " 36.83040282 36.20452759 37.25574307 38.6320963  39.39460683 41.68354324\n",
      " 42.65405783 42.72848159 44.61203501 45.37584579 46.45231829 46.65063672\n",
      " 47.46427474 48.54654177 50.45671682 49.93589683 51.77339822 52.16043558\n",
      " 54.32043997 54.94490279 55.64178962 57.40849543 57.05559017 58.54773026\n",
      " 60.52232922 61.31507457 61.75345817 62.94038066 63.94757145 64.95717815\n",
      " 66.23961117 68.07142254 68.22470185 69.33176474 70.18996953 70.11679698\n",
      " 72.4501256  73.10047362 73.71767248 75.13640263 75.86161928 77.35438764\n",
      " 77.22375222 79.80324915 79.55981738 81.02233988 82.66141749 83.03020103\n",
      " 84.66499494 86.42061695 86.05175832 87.18641472 87.43471245 88.38082002\n",
      " 89.90328    91.32631236 92.00382904 92.10520695 94.1831616  95.07020607\n",
      " 94.99996539 97.15956855 98.23091957 99.66300444]\n"
     ]
    },
    {
     "data": {
      "text/plain": [
       "[<matplotlib.lines.Line2D at 0x7fad95d19d68>]"
      ]
     },
     "execution_count": 27,
     "metadata": {},
     "output_type": "execute_result"
    },
    {
     "data": {
      "image/png": "[encoded data removed]",
      "text/plain": [
       "<Figure size 432x288 with 1 Axes>"
      ]
     },
     "metadata": {},
     "output_type": "display_data"
    }
   ],
   "source": [
    "import numpy as np\n",
    "import pylab as py\n",
    "\n",
    "T = 0.1\n",
    "\n",
    "X = np.zeros (shape = (2, 100)) #actual trace\n",
    "for i in range (0, 100):\n",
    "    X[0][i] = i\n",
    "    X[1][i] = 1\n",
    "F = np.zeros (shape = (2, 2)) #transition matrix\n",
    "F[0, 0] = F [1, 1] = 1\n",
    "F[0, 1] = T\n",
    "G = np.zeros (shape = (2, 1)) #input distribution matrix\n",
    "G[0, 0] = T * T / 2\n",
    "G[1, 0] = T\n",
    "H = np.zeros (shape = (1, 2)) #observation matrix\n",
    "H[0, 0] = 1\n",
    "s_v = 0.5\n",
    "v = np.random.normal (0, s_v, (2, 100))\n",
    "meas = X + v #measured data is with noise\n",
    "#print (X[0], meas[0])\n",
    "s_w = 0.01\n",
    "w = np.random.normal (0, s_w, (2, 100))\n",
    "_x = np.zeros (shape = (2, 1)) #aposteriori estimation\n",
    "_p = np.zeros (shape = (2, 1)) #aposterior estimation error\n",
    "est = np.zeros (shape = (2, 100)) #apriori estimation\n",
    "p = np.zeros (shape = (2, 100)) #apriori estiamtion error\n",
    "for i in range (1, 100):\n",
    "    _x = F * est[i - 1]\n",
    "    est[i] = _x + K * ()\n",
    "#py.plot (np.linspace (0, 100, 100), meas[0])"
   ]
  },
  {
   "cell_type": "code",
   "execution_count": null,
   "metadata": {},
   "outputs": [],
   "source": []
  }
 ],
 "metadata": {
  "kernelspec": {
   "display_name": "Python 3",
   "language": "python",
   "name": "python3"
  },
  "language_info": {
   "codemirror_mode": {
    "name": "ipython",
    "version": 3
   },
   "file_extension": ".py",
   "mimetype": "text/x-python",
   "name": "python",
   "nbconvert_exporter": "python",
   "pygments_lexer": "ipython3",
   "version": "3.6.5"
  }
 },
 "nbformat": 4,
 "nbformat_minor": 2
}
